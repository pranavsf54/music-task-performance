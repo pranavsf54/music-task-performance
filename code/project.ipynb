import pandas as pd
import matplotlib.pyplot as plt
import seaborn as sns
from scipy.stats import ttest_rel
from sklearn.linear_model import LogisticRegression
from sklearn.model_selection import train_test_split
from sklearn.metrics import classification_report, confusion_matrix, roc_curve, auc

# Step 1: Load and Clean Memory Task Data
df = pd.read_excel("raw-data-memory.xlsx")

# Identify correct columns
music_col = next((col for col in df.columns if 'means' in str(col).lower() and 'music' in str(col).lower()), None)
silence_col = next((col for col in df.columns if 'means' in str(col).lower() and 'silence' in str(col).lower()), None)

# Ensure both columns exist
if music_col is None or silence_col is None:
    raise ValueError("Required columns not found.")

# Clean and convert
memory_data = df[[music_col, silence_col]].replace('nr', pd.NA).dropna()
memory_data.columns = ['Music', 'Silence']
memory_data = memory_data.apply(pd.to_numeric, errors='coerce').dropna()

# Step 2: Descriptive Statistics
print("Descriptive Statistics (Memory Task):")
print(memory_data.describe())

# Step 3: Visualizations

# Boxplot
memory_data.plot(kind='box', figsize=(8, 6), color=dict(boxes='purple', whiskers='blue', medians='red'))
plt.title("Memory Task Performance: Music vs Silence")
plt.ylabel("Performance Score")
plt.grid(True)
plt.show()

# Bar chart of means
memory_data.mean().plot(kind='bar', color=['skyblue', 'orange'], figsize=(6, 5))
plt.title("Average Memory Performance: Music vs Silence")
plt.ylabel("Mean Score")
plt.xticks(rotation=0)
plt.show()

# Correlation heatmap
sns.heatmap(memory_data.corr(), annot=True, cmap='coolwarm')
plt.title("Correlation Heatmap: Memory Task Scores")
plt.show()

# Step 4: Paired T-Test 
t_stat, p_value = ttest_rel(memory_data['Music'], memory_data['Silence'])
print(f"\nPaired T-Test:\nT-statistic: {t_stat:.3f}, P-value: {p_value:.3f}")

if p_value < 0.05:
    print("Significant difference: Music improves memory performance.")
else:
    print("No significant difference found.")

# Step 5: Feature Engineering
memory_data['Difference'] = memory_data['Music'] - memory_data['Silence']
memory_data['Improved'] = (memory_data['Difference'] > 0).astype(int)

# Histogram of differences
memory_data['Difference'].plot(kind='hist', bins=20, edgecolor='black')
plt.title("Distribution of Memory Score Difference (Music - Silence)")
plt.xlabel("Score Difference")
plt.ylabel("Frequency")
plt.grid(True)
plt.show()

# Step 6: Predictive Modeling 
X = memory_data[['Silence']]  # Predictor
y = memory_data['Improved']   # Response variable

X_train, X_test, y_train, y_test = train_test_split(X, y, test_size=0.2, random_state=42)

model = LogisticRegression()
model.fit(X_train, y_train)

y_pred = model.predict(X_test)

# Evaluation
print("\nModel Evaluation (Predicting if Music Helps):")
print(classification_report(y_test, y_pred))
print("Confusion Matrix:")
print(confusion_matrix(y_test, y_pred))

# Step 7: ROC Curve and AUC
y_probs = model.predict_proba(X_test)[:, 1]
fpr, tpr, thresholds = roc_curve(y_test, y_probs)
roc_auc = auc(fpr, tpr)

# Plot the ROC curve
plt.figure()
plt.plot(fpr, tpr, color='darkorange', lw=2, label=f'ROC curve (AUC = {roc_auc:.2f})')
plt.plot([0, 1], [0, 1], color='navy', lw=2, linestyle='--')
plt.xlim([0.0, 1.0])
plt.ylim([0.0, 1.05])
plt.xlabel('False Positive Rate')
plt.ylabel('True Positive Rate')
plt.title('ROC Curve: Predicting if Music Improves Memory')
plt.legend(loc="lower right")
plt.grid(True)
plt.show()
